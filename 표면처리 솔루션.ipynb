{
 "cells": [
  {
   "cell_type": "markdown",
   "id": "6ac8077b",
   "metadata": {},
   "source": [
    "<p style=\"font-size:20px\">제조데이터 준비 [사용대상: 표면처리 뿌리업종 내 아연도금 산출물에서 발생하는 이미지 제조데이터(Vision Machine 활용)]</p>\n",
    "\n",
    "<p style=\"font-size:20px\">제조물 : 배관용 L자 연결 파이프(L자 관이음쇠) 아연도금</p>\n",
    "\n",
    "<p style=\"font-size:20px\">현장문제: 공정시 산출물로 나오게 되는 L자 관이음쇠의 외관 품질 상태를 작업자가 하나하나 눈으로 체크하고 있으며, 이로 인한 노동력 낭비가 발생하고 있음</p>\n",
    "\n",
    "<p style=\"font-size:20px\">제조AI 개발 목적: 비전 시스템을 활용하여 표면처리(아연도금) 산출물의 외관 품질 검사를 자동화하고, 분류할 수 있게 하기 위함</p>"
   ]
  },
  {
   "cell_type": "markdown",
   "id": "fe981851-39f5-4001-8cff-f755bdc9518f",
   "metadata": {},
   "source": [
    "# Library Install"
   ]
  },
  {
   "cell_type": "code",
   "execution_count": 1,
   "id": "080de4e7",
   "metadata": {},
   "outputs": [],
   "source": [
    "# !pip install pandas\n",
    "# !pip install numpy\n",
    "# !pip install sklearn\n",
    "# !pip install seaborn\n",
    "# !pip install tensorflow\n",
    "# !pip install datetime\n",
    "# !pip install matplotlib\n",
    "# !pip install pydot\n",
    "# !pip install graphviz"
   ]
  },
  {
   "cell_type": "markdown",
   "id": "79ab8dc1",
   "metadata": {},
   "source": [
    "# Library Import"
   ]
  },
  {
   "cell_type": "code",
   "execution_count": 2,
   "id": "8bfcff89",
   "metadata": {},
   "outputs": [],
   "source": [
    "import os\n",
    "import pandas as pd\n",
    "import numpy as np\n",
    "import cv2\n",
    "import matplotlib.pyplot as plt\n",
    "from PIL import Image\n",
    "import glob\n",
    "from sklearn.utils import shuffle\n",
    "from tensorflow.keras.utils import plot_model\n",
    "from sklearn.metrics import mean_squared_error\n",
    "from math import sqrt"
   ]
  },
  {
   "cell_type": "code",
   "execution_count": 3,
   "id": "a6e22260",
   "metadata": {},
   "outputs": [],
   "source": [
    "# Training Validation Tool Import\n",
    "from sklearn.metrics import confusion_matrix\n",
    "from sklearn.metrics import accuracy_score\n",
    "from sklearn.metrics import precision_score\n",
    "from sklearn.metrics import recall_score\n",
    "from sklearn.metrics import f1_score\n",
    "from sklearn.metrics import classification_report\n",
    "from sklearn.metrics import roc_curve"
   ]
  },
  {
   "cell_type": "code",
   "execution_count": 4,
   "id": "af09a1a3",
   "metadata": {},
   "outputs": [],
   "source": [
    "# Deep Learning Framework Import\n",
    "import tensorflow as tf"
   ]
  },
  {
   "cell_type": "code",
   "execution_count": 5,
   "id": "0bdea60c",
   "metadata": {},
   "outputs": [],
   "source": [
    "gpus = tf.config.experimental.list_physical_devices('GPU')  # Set GPU Use"
   ]
  },
  {
   "cell_type": "code",
   "execution_count": 6,
   "id": "322b2c53",
   "metadata": {},
   "outputs": [
    {
     "name": "stdout",
     "output_type": "stream",
     "text": [
      "1 Physical GPUs, 1 Logical GPUs\n"
     ]
    }
   ],
   "source": [
    "# GPU Use, not in condition -> Error\n",
    "if gpus:\n",
    "    try:\n",
    "        for gpu in gpus:\n",
    "            tf.config.experimental.set_memory_growth(gpu, True) # Set GPU Memory Useage Growth\n",
    "        logical_gpus = tf.config.experimental.list_logical_devices('GPU')   # Set Logical GPU\n",
    "        print(len(gpus), \"Physical GPUs,\", len(logical_gpus), \"Logical GPUs\")   # Print GPU Info\n",
    "    except RuntimeError as e:\n",
    "        print(e)"
   ]
  },
  {
   "cell_type": "code",
   "execution_count": 7,
   "id": "8752c95f",
   "metadata": {},
   "outputs": [],
   "source": [
    "# Image Preprocessing\n",
    "def img_preprocess(img):\n",
    "    img = Image.open(img)   # Open Image\n",
    "    img = img.convert('RGB')   # Image Color Channel Change BGR->RGB\n",
    "    img = img.resize((256,256))   # Image Resize for training\n",
    "    img = np.asarray(img)/255   # Image Normalization\n",
    "    return img  # return Image"
   ]
  },
  {
   "cell_type": "code",
   "execution_count": 8,
   "id": "4f47d2c7",
   "metadata": {},
   "outputs": [],
   "source": [
    "class AutoImageClassification:\n",
    "    def __init__(self, path):\n",
    "        self.train_df = self._create_df(path, '\\학습')  # Training DataFrame Set\n",
    "        self.test_df = self._create_df(path, '\\테스트') # Test DataFrame Set\n",
    "        \n",
    "    @staticmethod\n",
    "    def _create_df(path, path2):    # Make DataFrame for Training / Test\n",
    "        files1 = glob.glob(path+path2+\"\\정상\\*.png\")    # Get Images from True Image Folder\n",
    "        files2 = glob.glob(path+path2+\"\\불량\\*.png\")    # Get Images from False Image Folder\n",
    "        df_n = pd.DataFrame()   # Initialize DataFrame for False\n",
    "        df_p = pd.DataFrame()   # Initialize DataFrame for True\n",
    "        df_n['name'] = [x for x in files2]  # False Image Name Insert into DataFrame's column name\n",
    "        df_n['outcome'] = 0.      # False Image Value Insert into DataFrame's column outcome\n",
    "        df_p['name'] = [x for x in files1]  # True Image Name Insert into DataFrame's column name\n",
    "        df_p['outcome'] = 1.      # True Image Value Insert into DataFrame's column outcome\n",
    "        df = pd.concat([df_n, df_p], axis = 0, ignore_index = True)  # Concat True / False Dataframe\n",
    "        df = shuffle(df)        # Shuffle DataFame Rows\n",
    "        return df\n",
    "    \n",
    "    def create_x_and_y(self):   # Get Data Pair (Image, Value)\n",
    "        X = np.array([img_preprocess(p) for p in self.train_df.name.values])    # Get Image Data\n",
    "        y = self.train_df.outcome.values    # Get Value Data from DataFrame\n",
    "        return X, y"
   ]
  },
  {
   "cell_type": "code",
   "execution_count": 9,
   "id": "ecac3fb5",
   "metadata": {},
   "outputs": [],
   "source": [
    "aic = AutoImageClassification(path = os.getcwd())   # Initizlie AIC Class"
   ]
  },
  {
   "cell_type": "code",
   "execution_count": 10,
   "id": "19848aea",
   "metadata": {},
   "outputs": [],
   "source": [
    "is_training = True # Set Training Trigger"
   ]
  },
  {
   "cell_type": "code",
   "execution_count": 11,
   "id": "ee3cec67",
   "metadata": {},
   "outputs": [],
   "source": [
    "if is_training: # if Training Trigger True, Do underline\n",
    "        X, y = aic.create_x_and_y()     # Get Training Datas"
   ]
  },
  {
   "cell_type": "code",
   "execution_count": 12,
   "id": "d52f0bf3-2a16-405a-8df2-089573362379",
   "metadata": {},
   "outputs": [],
   "source": [
    "def modelGen():\n",
    "    model = tf.keras.Sequential()\n",
    "    model.add(tf.keras.layers.Conv2D(input_shape=(256,256,3), filters=32, kernel_size=(3,3), activation='relu'))\n",
    "    model.add(tf.keras.layers.MaxPooling2D(pool_size=(2,2)))\n",
    "    model.add(tf.keras.layers.Conv2D(filters=64, kernel_size=(3,3), activation='relu'))\n",
    "    model.add(tf.keras.layers.MaxPooling2D(pool_size=(2,2)))\n",
    "    model.add(tf.keras.layers.Conv2D(filters=64, kernel_size=(3,3), activation='relu'))\n",
    "    model.add(tf.keras.layers.MaxPooling2D(pool_size=(2,2)))\n",
    "    model.add(tf.keras.layers.Flatten())\n",
    "    model.add(tf.keras.layers.Dense(100))\n",
    "    model.add(tf.keras.layers.Dense(1, activation='sigmoid'))\n",
    "    model.compile(loss='binary_crossentropy', optimizer='adam', metrics=['accuracy'])\n",
    "    return model"
   ]
  },
  {
   "cell_type": "code",
   "execution_count": 13,
   "id": "4593618d",
   "metadata": {
    "scrolled": true
   },
   "outputs": [
    {
     "name": "stdout",
     "output_type": "stream",
     "text": [
      "Epoch 1/3\n",
      "29/29 - 7s - loss: 0.3776 - accuracy: 0.9246 - val_loss: 0.0934 - val_accuracy: 0.9700 - 7s/epoch - 238ms/step\n",
      "Epoch 2/3\n",
      "29/29 - 2s - loss: 0.0825 - accuracy: 0.9741 - val_loss: 0.0638 - val_accuracy: 0.9828 - 2s/epoch - 70ms/step\n",
      "Epoch 3/3\n",
      "29/29 - 2s - loss: 0.0469 - accuracy: 0.9871 - val_loss: 0.0226 - val_accuracy: 0.9914 - 2s/epoch - 69ms/step\n"
     ]
    }
   ],
   "source": [
    "if is_training: # if Training Trigger True, Do Training\n",
    "    model = modelGen()\n",
    "    model.fit(x=X, y=y, epochs=3, validation_split=0.2, verbose=2)  # Model Training\n",
    "    model.save('trainedModel.h5')    # Model Export\n",
    "else:\n",
    "    model = tf.keras.models.load_model(\"trainedModel.h5\") # Get Trained Model"
   ]
  },
  {
   "cell_type": "code",
   "execution_count": 14,
   "id": "df8347ba",
   "metadata": {},
   "outputs": [
    {
     "name": "stdout",
     "output_type": "stream",
     "text": [
      "Model: \"sequential\"\n",
      "_________________________________________________________________\n",
      " Layer (type)                Output Shape              Param #   \n",
      "=================================================================\n",
      " conv2d (Conv2D)             (None, 254, 254, 32)      896       \n",
      "                                                                 \n",
      " max_pooling2d (MaxPooling2D  (None, 127, 127, 32)     0         \n",
      " )                                                               \n",
      "                                                                 \n",
      " conv2d_1 (Conv2D)           (None, 125, 125, 64)      18496     \n",
      "                                                                 \n",
      " max_pooling2d_1 (MaxPooling  (None, 62, 62, 64)       0         \n",
      " 2D)                                                             \n",
      "                                                                 \n",
      " conv2d_2 (Conv2D)           (None, 60, 60, 64)        36928     \n",
      "                                                                 \n",
      " max_pooling2d_2 (MaxPooling  (None, 30, 30, 64)       0         \n",
      " 2D)                                                             \n",
      "                                                                 \n",
      " flatten (Flatten)           (None, 57600)             0         \n",
      "                                                                 \n",
      " dense (Dense)               (None, 100)               5760100   \n",
      "                                                                 \n",
      " dense_1 (Dense)             (None, 1)                 101       \n",
      "                                                                 \n",
      "=================================================================\n",
      "Total params: 5,816,521\n",
      "Trainable params: 5,816,521\n",
      "Non-trainable params: 0\n",
      "_________________________________________________________________\n"
     ]
    }
   ],
   "source": [
    "model.summary() # Model Shape Showing"
   ]
  },
  {
   "cell_type": "code",
   "execution_count": 15,
   "id": "f18a8f75",
   "metadata": {},
   "outputs": [
    {
     "name": "stdout",
     "output_type": "stream",
     "text": [
      "You must install pydot (`pip install pydot`) and install graphviz (see instructions at https://graphviz.gitlab.io/download/) for plot_model to work.\n"
     ]
    }
   ],
   "source": [
    "plot_model(model)   # Model Architecture Showing"
   ]
  },
  {
   "cell_type": "code",
   "execution_count": 16,
   "id": "c7f3f9cb",
   "metadata": {},
   "outputs": [],
   "source": [
    "x_test = np.array([img_preprocess(p) for p in aic.test_df.name.values]) # Get Test Images\n",
    "y_test = aic.test_df.outcome.values # Get Test Values"
   ]
  },
  {
   "cell_type": "code",
   "execution_count": 17,
   "id": "4a666596",
   "metadata": {},
   "outputs": [
    {
     "name": "stdout",
     "output_type": "stream",
     "text": [
      "10/10 [==============================] - 1s 48ms/step\n",
      "accuracy  =  0.9965635738831615\n",
      "recall    =  1.0\n",
      "precision =  0.9963898916967509\n",
      "f1 score  =  0.9981916817359855\n"
     ]
    }
   ],
   "source": [
    "y_pred_ori = model.predict(x_test)  # Model Inference\n",
    "y_pred = [round(y[0], 0) for y in y_pred_ori]   # Round Predict Values\n",
    "print(\"accuracy  = \", accuracy_score(y_test, y_pred))   # Print Model Accuracy with Test Data\n",
    "print(\"recall    = \", recall_score(y_test, y_pred))     # Print Model Recall with Test Data\n",
    "print(\"precision = \", precision_score(y_test, y_pred))  # Print Model Score with Test Data\n",
    "print(\"f1 score  = \", f1_score(y_test, y_pred))         # Print Model F1-Score with Test Data"
   ]
  },
  {
   "cell_type": "code",
   "execution_count": 18,
   "id": "1512c845",
   "metadata": {},
   "outputs": [
    {
     "data": {
      "text/plain": [
       "(array([ 14.,   0.,   0.,   0.,   0.,   0.,   0.,   1.,   0., 276.]),\n",
       " array([9.88007287e-07, 9.99992192e-02, 1.99997455e-01, 2.99995691e-01,\n",
       "        3.99993926e-01, 4.99992162e-01, 5.99990368e-01, 6.99988604e-01,\n",
       "        7.99986839e-01, 8.99985075e-01, 9.99983311e-01]),\n",
       " <BarContainer object of 10 artists>)"
      ]
     },
     "execution_count": 18,
     "metadata": {},
     "output_type": "execute_result"
    },
    {
     "data": {
      "image/png": "[encoded data removed]",
      "text/plain": [
       "<Figure size 640x480 with 1 Axes>"
      ]
     },
     "metadata": {},
     "output_type": "display_data"
    }
   ],
   "source": [
    "plt.hist(y_pred_ori)    # Predict Value Plot"
   ]
  },
  {
   "cell_type": "code",
   "execution_count": 19,
   "id": "555d112b",
   "metadata": {},
   "outputs": [
    {
     "name": "stdout",
     "output_type": "stream",
     "text": [
      "Keras Model Predict :  [1.0, 1.0, 1.0, 1.0, 1.0, 1.0, 1.0, 1.0, 1.0, 1.0, 1.0, 1.0, 1.0, 1.0, 1.0, 1.0, 1.0, 1.0, 1.0, 0.0, 1.0, 1.0, 1.0, 1.0, 1.0, 1.0, 1.0, 1.0, 1.0, 1.0, 1.0, 1.0, 1.0, 1.0, 1.0, 1.0, 1.0, 0.0, 1.0, 1.0, 1.0, 1.0, 1.0, 1.0, 1.0, 1.0, 1.0, 1.0, 1.0, 1.0, 1.0, 1.0, 1.0, 1.0, 1.0, 1.0, 1.0, 1.0, 1.0, 1.0, 1.0, 1.0, 1.0, 1.0, 1.0, 1.0, 1.0, 1.0, 1.0, 1.0, 1.0, 1.0, 1.0, 1.0, 1.0, 1.0, 1.0, 1.0, 0.0, 1.0, 1.0, 1.0, 1.0, 1.0, 1.0, 1.0, 1.0, 0.0, 1.0, 1.0, 1.0, 1.0, 0.0, 1.0, 1.0, 1.0, 1.0, 1.0, 1.0, 1.0, 1.0, 0.0, 1.0, 1.0, 1.0, 1.0, 1.0, 1.0, 1.0, 1.0, 1.0, 1.0, 1.0, 1.0, 1.0, 1.0, 1.0, 1.0, 1.0, 1.0, 1.0, 1.0, 1.0, 1.0, 1.0, 1.0, 1.0, 1.0, 1.0, 0.0, 1.0, 1.0, 1.0, 1.0, 1.0, 1.0, 1.0, 1.0, 1.0, 1.0, 1.0, 1.0, 1.0, 1.0, 1.0, 1.0, 1.0, 1.0, 1.0, 1.0, 1.0, 1.0, 1.0, 1.0, 1.0, 1.0, 1.0, 1.0, 1.0, 1.0, 1.0, 1.0, 1.0, 1.0, 1.0, 1.0, 1.0, 1.0, 1.0, 1.0, 1.0, 1.0, 0.0, 1.0, 1.0, 1.0, 1.0, 1.0, 1.0, 1.0, 1.0, 1.0, 1.0, 1.0, 1.0, 1.0, 1.0, 1.0, 0.0, 1.0, 0.0, 1.0, 1.0, 1.0, 1.0, 1.0, 1.0, 0.0, 1.0, 1.0, 1.0, 1.0, 1.0, 1.0, 1.0, 1.0, 1.0, 1.0, 1.0, 1.0, 1.0, 1.0, 1.0, 1.0, 1.0, 1.0, 1.0, 1.0, 1.0, 1.0, 1.0, 1.0, 1.0, 1.0, 1.0, 1.0, 1.0, 1.0, 1.0, 1.0, 1.0, 1.0, 1.0, 1.0, 1.0, 1.0, 1.0, 1.0, 1.0, 1.0, 1.0, 1.0, 1.0, 1.0, 1.0, 1.0, 1.0, 1.0, 1.0, 1.0, 0.0, 1.0, 1.0, 1.0, 1.0, 1.0, 1.0, 1.0, 1.0, 0.0, 1.0, 1.0, 1.0, 1.0, 1.0, 1.0, 1.0, 1.0, 1.0, 1.0, 1.0, 0.0, 1.0, 1.0, 1.0, 1.0, 1.0, 1.0, 1.0, 1.0, 1.0, 1.0, 1.0, 1.0, 1.0, 1.0, 1.0, 1.0, 1.0, 1.0, 1.0]\n",
      "Keras Model RMS :  0.058621038176054914\n"
     ]
    }
   ],
   "source": [
    "print('Keras Model Predict : ', y_pred) # Print Predict Values\n",
    "rmse = sqrt(mean_squared_error(y_test, y_pred)) # Calculate RMSE Value with Predict Values and Real Values\n",
    "print('Keras Model RMS : ', rmse)   # Print RMSE Value"
   ]
  },
  {
   "cell_type": "code",
   "execution_count": 20,
   "id": "afb6f24a",
   "metadata": {},
   "outputs": [
    {
     "name": "stdout",
     "output_type": "stream",
     "text": [
      "[0.         0.06666667 1.        ] [0. 1. 1.] [2. 1. 0.]\n"
     ]
    }
   ],
   "source": [
    "fpr, tpr, thresholds = roc_curve(y_test, y_pred)    # Calculate ROC Curve Data\n",
    "print(fpr, tpr, thresholds)                         # Print ROC Curve Data"
   ]
  },
  {
   "cell_type": "code",
   "execution_count": 21,
   "id": "760878f1",
   "metadata": {},
   "outputs": [
    {
     "name": "stdout",
     "output_type": "stream",
     "text": [
      "[[276   0]\n",
      " [  1  14]]\n"
     ]
    }
   ],
   "source": [
    "conf_matrix = confusion_matrix(y_test, y_pred, labels=[1, 0])   # Calculate Confusion Matrix Data\n",
    "print(conf_matrix)                                              # Print Confusion Matrix Data"
   ]
  },
  {
   "cell_type": "code",
   "execution_count": 22,
   "id": "e9eb2d0a",
   "metadata": {},
   "outputs": [
    {
     "data": {
      "image/png": "[encoded data removed]",
      "text/plain": [
       "<Figure size 640x480 with 1 Axes>"
      ]
     },
     "metadata": {},
     "output_type": "display_data"
    }
   ],
   "source": [
    "recall = conf_matrix[0][0]/(conf_matrix[0][0]+conf_matrix[0][1])    # Calculate Recall Value from Confusion Matrix Data\n",
    "fallout = conf_matrix[1][0]/(conf_matrix[1][0]+conf_matrix[1][1])   # Calculate Fallout Value from Confusion Matrix Data\n",
    "plt.plot(fpr, tpr, 'o-', label=\"Logistic Regression\")               # plot ROC Curve Data\n",
    "plt.plot([0, 1], [0, 1], 'k--', label=\"random guess\")\n",
    "plt.plot([fallout], [recall], 'ro', ms=10)                          # plot Fallout Data\n",
    "plt.xlabel('Fall-Out')                                              # Set x Label\n",
    "plt.ylabel('Recall')                                                # Set y Label\n",
    "plt.title('Receiver operating characteristic example')              # Set Title\n",
    "plt.grid()                                                          # Set Grid\n",
    "plt.legend()                                                        # Set Legend\n",
    "plt.show()                                                          # Show Plot Image"
   ]
  },
  {
   "cell_type": "code",
   "execution_count": 23,
   "id": "7f34cca5",
   "metadata": {},
   "outputs": [
    {
     "name": "stdout",
     "output_type": "stream",
     "text": [
      "              precision    recall  f1-score   support\n",
      "\n",
      "     class 0       1.00      0.93      0.97        15\n",
      "     class 1       1.00      1.00      1.00       276\n",
      "\n",
      "    accuracy                           1.00       291\n",
      "   macro avg       1.00      0.97      0.98       291\n",
      "weighted avg       1.00      1.00      1.00       291\n",
      "\n"
     ]
    }
   ],
   "source": [
    "print(classification_report(y_test, y_pred, target_names=['class 0', 'class 1']))   # Print Report"
   ]
  },
  {
   "cell_type": "code",
   "execution_count": null,
   "id": "77ec0729-422c-4da7-ad39-aca840494016",
   "metadata": {},
   "outputs": [],
   "source": []
  }
 ],
 "metadata": {
  "kernelspec": {
   "display_name": "ted",
   "language": "python",
   "name": "ted"
  },
  "language_info": {
   "codemirror_mode": {
    "name": "ipython",
    "version": 3
   },
   "file_extension": ".py",
   "mimetype": "text/x-python",
   "name": "python",
   "nbconvert_exporter": "python",
   "pygments_lexer": "ipython3",
   "version": "3.8.15"
  }
 },
 "nbformat": 4,
 "nbformat_minor": 5
}
