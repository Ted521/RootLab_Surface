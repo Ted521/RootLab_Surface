{
 "cells": [
  {
   "cell_type": "markdown",
   "id": "be4160b5-fbe3-47cf-9722-e91855113f27",
   "metadata": {},
   "source": [
    "<img src='ipydata/표면처리.png' align='center' width=\"1500px\"/>"
   ]
  },
  {
   "cell_type": "markdown",
   "id": "28027c64-f0ba-4c41-ac43-4fc65a100efa",
   "metadata": {},
   "source": [
    "<ul><li style=\"font-size:2em;\">제조 데이터 준비</li></ul>\n",
    "<div style=\"width:1200px; margin:0 auto;\">\n",
    "<a href=\"#\"><img style=\"width:25%\" src=\"ipydata/data.png\"></a>\n",
    "<a href=\"#\"><img style=\"width:25%\" src=\"ipydata/data2.png\"></a>\n",
    "</div>\n",
    "<br>\n",
    "<span style=\"font-size:20px;\">사용대상: 표면처리 뿌리업종 내 아연도금 산출물에서 발생하는 이미지 제조데이터(Vision Machine 활용)</span>"
   ]
  },
  {
   "cell_type": "markdown",
   "id": "853ba638-9ceb-49d4-9873-6284366f0f1a",
   "metadata": {},
   "source": [
    "<ul><li style=\"font-size:2em;\">제조물</li></ul>\n",
    "<div style=\"width:1200px; margin:0 auto;\">\n",
    "<a href=\"#\"><img style=\"width:300px; height:200px;\" src=\"ipydata/제품1.png\"></a>\n",
    "<a href=\"#\"><img style=\"width:200px; height:200px;\" src=\"ipydata/제품2.png\"></a>\n",
    "</div>\n",
    "<br>\n",
    "<span style=\"font-size:20px;\">배관용 L자 연결 파이프(L자 관이음쇠) 아연도금</span>"
   ]
  },
  {
   "cell_type": "markdown",
   "id": "2deb5b87-2108-449a-ba39-d2389fee6cca",
   "metadata": {},
   "source": [
    "<ul><li style=\"font-size:2em;\">현장문제</li></ul>\n",
    "<div style=\"width:1200px; margin:0 auto;\">\n",
    "<a href=\"#\"><img style=\"width:400px; height:200px\" src=\"ipydata/육안1.png\"></a>\n",
    "<a href=\"#\"><img style=\"width:300px; height:200px\" src=\"ipydata/육안2.png\"></a>\n",
    "</div>\n",
    "<br>\n",
    "<span style=\"font-size:20px;\">공정시 산출물로 나오게 되는 L자 관이음쇠의 외관 품질 상태를 작업자가 하나하나 눈으로 체크하고 있으며, 이로 인한 노동력 낭비가 발생하고 있음</span>"
   ]
  },
  {
   "cell_type": "markdown",
   "id": "e698f729-b96e-4000-a16f-e47593e2032a",
   "metadata": {
    "tags": []
   },
   "source": [
    "<ul><li style=\"font-size:2em;\">제조AI 개발 목적</li></ul>\n",
    "<div style=\"width:1200px; margin:0 auto;\">\n",
    "<a href=\"#\"><img style=\"width:400px; height:200px\" src=\"ipydata/검사1.png\"></a>\n",
    "<a href=\"#\"><img style=\"width:300px; height:200px\" src=\"ipydata/검사2.png\"></a>\n",
    "</div>\n",
    "<br>\n",
    "<span style=\"font-size:20px;\">비전 시스템을 활용하여 표면처리(아연도금) 산출물의 외관 품질 검사를 자동화하고, 분류할 수 있게 하기 위함</span>"
   ]
  },
  {
   "cell_type": "markdown",
   "id": "fe981851-39f5-4001-8cff-f755bdc9518f",
   "metadata": {},
   "source": [
    "# Library Install"
   ]
  },
  {
   "cell_type": "markdown",
   "id": "0286beb0-9f6a-4ab3-a34c-9607448ea69e",
   "metadata": {},
   "source": [
    "### 코드에 필요한 모듈 설치"
   ]
  },
  {
   "cell_type": "code",
   "execution_count": null,
   "id": "080de4e7",
   "metadata": {},
   "outputs": [],
   "source": [
    "# !pip install pandas\n",
    "# !pip install numpy\n",
    "# !pip install sklearn\n",
    "# !pip install seaborn\n",
    "# !pip install tensorflow\n",
    "# !pip install datetime\n",
    "# !pip install matplotlib\n",
    "# !pip install pydot\n",
    "# !pip install graphviz"
   ]
  },
  {
   "cell_type": "markdown",
   "id": "79ab8dc1",
   "metadata": {},
   "source": [
    "# Library Import"
   ]
  },
  {
   "cell_type": "markdown",
   "id": "59f1658c-35e4-4532-9e53-113cac28538f",
   "metadata": {},
   "source": [
    "### 이미지 제조데이터 및 AI 모델을 사용하기 위해 다음 모듈 사용"
   ]
  },
  {
   "cell_type": "code",
   "execution_count": null,
   "id": "8bfcff89",
   "metadata": {},
   "outputs": [],
   "source": [
    "import os\n",
    "import pandas as pd\n",
    "import numpy as np\n",
    "import cv2\n",
    "import matplotlib.pyplot as plt\n",
    "from PIL import Image\n",
    "import glob\n",
    "from sklearn.utils import shuffle\n",
    "from tensorflow.keras.utils import plot_model\n",
    "from sklearn.metrics import mean_squared_error\n",
    "from math import sqrt"
   ]
  },
  {
   "cell_type": "markdown",
   "id": "678bc5c9-d185-42a7-80b3-eb0299488552",
   "metadata": {},
   "source": [
    "### 모델의 평가를 위해 다음 모듈 사용"
   ]
  },
  {
   "cell_type": "code",
   "execution_count": null,
   "id": "a6e22260",
   "metadata": {},
   "outputs": [],
   "source": [
    "# Training Validation Tool Import\n",
    "from sklearn.metrics import confusion_matrix\n",
    "from sklearn.metrics import accuracy_score\n",
    "from sklearn.metrics import precision_score\n",
    "from sklearn.metrics import recall_score\n",
    "from sklearn.metrics import f1_score\n",
    "from sklearn.metrics import classification_report\n",
    "from sklearn.metrics import roc_curve"
   ]
  },
  {
   "cell_type": "markdown",
   "id": "8fa9b141-58d8-4064-8de6-ed2a533acf94",
   "metadata": {},
   "source": [
    "### AI 모델을 사용하기 위해 다음 모듈 사용"
   ]
  },
  {
   "cell_type": "code",
   "execution_count": null,
   "id": "af09a1a3",
   "metadata": {},
   "outputs": [],
   "source": [
    "# Deep Learning Framework Import\n",
    "import tensorflow as tf"
   ]
  },
  {
   "cell_type": "markdown",
   "id": "eb7f7b57-0c9a-4e9f-9b98-9bc48757dcdf",
   "metadata": {},
   "source": [
    "### 모듈을 통해 사용 가능한 GPU 리스트 추출"
   ]
  },
  {
   "cell_type": "code",
   "execution_count": null,
   "id": "0bdea60c",
   "metadata": {},
   "outputs": [],
   "source": [
    "gpus = tf.config.experimental.list_physical_devices('GPU')  # Set GPU Use"
   ]
  },
  {
   "cell_type": "markdown",
   "id": "d6e92590-498a-4afc-bfea-5b8178e48c81",
   "metadata": {},
   "source": [
    "### GPU가 사용 가능할 경우, GPU 세팅"
   ]
  },
  {
   "cell_type": "code",
   "execution_count": null,
   "id": "322b2c53",
   "metadata": {},
   "outputs": [],
   "source": [
    "# GPU Use, not in condition -> Error\n",
    "if gpus:\n",
    "    try:\n",
    "        for gpu in gpus:\n",
    "            tf.config.experimental.set_memory_growth(gpu, True) # Set GPU Memory Useage Growth\n",
    "        logical_gpus = tf.config.experimental.list_logical_devices('GPU')   # Set Logical GPU\n",
    "        print(len(gpus), \"Physical GPUs,\", len(logical_gpus), \"Logical GPUs\")   # Print GPU Info\n",
    "    except RuntimeError as e:\n",
    "        print(e)"
   ]
  },
  {
   "cell_type": "markdown",
   "id": "993e1dee-60b0-426d-81df-4fcf1dca935d",
   "metadata": {},
   "source": [
    "### 이미지 전처리 함수 정의"
   ]
  },
  {
   "cell_type": "code",
   "execution_count": null,
   "id": "8752c95f",
   "metadata": {},
   "outputs": [],
   "source": [
    "# Image Preprocessing\n",
    "def img_preprocess(img):\n",
    "    img = Image.open(img)   # Open Image\n",
    "    img = img.convert('RGB')   # Image Color Channel Change BGR->RGB\n",
    "    img = img.resize((256,256))   # Image Resize for training\n",
    "    img = np.asarray(img)/255   # Image Normalization\n",
    "    return img  # return Image"
   ]
  },
  {
   "cell_type": "markdown",
   "id": "3d35b2c3-59d7-4663-839f-51294be10d57",
   "metadata": {},
   "source": [
    "### 이미지 제조데이터 구조화 클래스 정의"
   ]
  },
  {
   "cell_type": "code",
   "execution_count": null,
   "id": "4f47d2c7",
   "metadata": {},
   "outputs": [],
   "source": [
    "class AutoImageClassification:\n",
    "    def __init__(self, path):\n",
    "        self.train_df = self._create_df(path, '\\학습')  # Training DataFrame Set\n",
    "        self.test_df = self._create_df(path, '\\테스트') # Test DataFrame Set\n",
    "        \n",
    "    @staticmethod\n",
    "    def _create_df(path, path2):    # Make DataFrame for Training / Test\n",
    "        files1 = glob.glob(path+path2+\"\\정상\\*.png\")    # Get Images from True Image Folder\n",
    "        files2 = glob.glob(path+path2+\"\\불량\\*.png\")    # Get Images from False Image Folder\n",
    "        df_n = pd.DataFrame()   # Initialize DataFrame for False\n",
    "        df_p = pd.DataFrame()   # Initialize DataFrame for True\n",
    "        df_n['name'] = [x for x in files2]  # False Image Name Insert into DataFrame's column name\n",
    "        df_n['outcome'] = 0.      # False Image Value Insert into DataFrame's column outcome\n",
    "        df_p['name'] = [x for x in files1]  # True Image Name Insert into DataFrame's column name\n",
    "        df_p['outcome'] = 1.      # True Image Value Insert into DataFrame's column outcome\n",
    "        df = pd.concat([df_n, df_p], axis = 0, ignore_index = True)  # Concat True / False Dataframe\n",
    "        df = shuffle(df)        # Shuffle DataFame Rows\n",
    "        return df\n",
    "    \n",
    "    def create_x_and_y(self):   # Get Data Pair (Image, Value)\n",
    "        X = np.array([img_preprocess(p) for p in self.train_df.name.values])    # Get Image Data\n",
    "        y = self.train_df.outcome.values    # Get Value Data from DataFrame\n",
    "        return X, y"
   ]
  },
  {
   "cell_type": "markdown",
   "id": "5a06b7be-507c-4530-bfc0-021e75450859",
   "metadata": {},
   "source": [
    "### 이미지 제조데이터 구성"
   ]
  },
  {
   "cell_type": "code",
   "execution_count": null,
   "id": "ecac3fb5",
   "metadata": {},
   "outputs": [],
   "source": [
    "aic = AutoImageClassification(path = os.getcwd())   # Initizlie AIC Class"
   ]
  },
  {
   "cell_type": "markdown",
   "id": "e36ad2e0-3197-43ae-9ed2-33d4f508b6f3",
   "metadata": {},
   "source": [
    "### 학습 진행 유무 판단용 변수 선언"
   ]
  },
  {
   "cell_type": "code",
   "execution_count": null,
   "id": "19848aea",
   "metadata": {},
   "outputs": [],
   "source": [
    "is_training = True # Set Training Trigger"
   ]
  },
  {
   "cell_type": "markdown",
   "id": "368ea995-27bd-4b48-8f47-ea7756575834",
   "metadata": {},
   "source": [
    "### 학습 진행 시, 학습용 제조데이터 구성"
   ]
  },
  {
   "cell_type": "code",
   "execution_count": null,
   "id": "ee3cec67",
   "metadata": {},
   "outputs": [],
   "source": [
    "if is_training: # if Training Trigger True, Do underline\n",
    "        X, y = aic.create_x_and_y()     # Get Training Datas"
   ]
  },
  {
   "cell_type": "markdown",
   "id": "0d8e6e29-55d3-4c24-900c-a77db08d6222",
   "metadata": {},
   "source": [
    "### 모델 구성 함수 선언"
   ]
  },
  {
   "cell_type": "code",
   "execution_count": null,
   "id": "d52f0bf3-2a16-405a-8df2-089573362379",
   "metadata": {},
   "outputs": [],
   "source": [
    "def modelGen():\n",
    "    model = tf.keras.Sequential()\n",
    "    model.add(tf.keras.layers.Conv2D(input_shape=(256,256,3), filters=32, kernel_size=(3,3), activation='relu'))\n",
    "    model.add(tf.keras.layers.MaxPooling2D(pool_size=(2,2)))\n",
    "    model.add(tf.keras.layers.Conv2D(filters=64, kernel_size=(3,3), activation='relu'))\n",
    "    model.add(tf.keras.layers.MaxPooling2D(pool_size=(2,2)))\n",
    "    model.add(tf.keras.layers.Conv2D(filters=64, kernel_size=(3,3), activation='relu'))\n",
    "    model.add(tf.keras.layers.MaxPooling2D(pool_size=(2,2)))\n",
    "    model.add(tf.keras.layers.Flatten())\n",
    "    model.add(tf.keras.layers.Dense(100))\n",
    "    model.add(tf.keras.layers.Dense(1, activation='sigmoid'))\n",
    "    model.compile(loss='binary_crossentropy', optimizer='adam', metrics=['accuracy'])\n",
    "    return model"
   ]
  },
  {
   "cell_type": "markdown",
   "id": "2a2a4f77-e2e8-4a17-800e-eedc1c249808",
   "metadata": {},
   "source": [
    "### 학습 진행 또는 학습된 모델 로드"
   ]
  },
  {
   "cell_type": "code",
   "execution_count": null,
   "id": "4593618d",
   "metadata": {
    "scrolled": true
   },
   "outputs": [],
   "source": [
    "if is_training: # if Training Trigger True, Do Training\n",
    "    model = modelGen()\n",
    "    model.fit(x=X, y=y, epochs=3, validation_split=0.2, verbose=2)  # Model Training\n",
    "    model.save('trainedModel.h5')    # Model Export\n",
    "else:\n",
    "    model = tf.keras.models.load_model(\"trainedModel.h5\") # Get Trained Model"
   ]
  },
  {
   "cell_type": "markdown",
   "id": "f55ee9dc-7793-4233-808a-6bffb62d5103",
   "metadata": {},
   "source": [
    "### 모델 요약"
   ]
  },
  {
   "cell_type": "code",
   "execution_count": null,
   "id": "df8347ba",
   "metadata": {},
   "outputs": [],
   "source": [
    "model.summary() # Model Shape Showing"
   ]
  },
  {
   "cell_type": "markdown",
   "id": "a9b04a80-4c20-4b30-b7ae-4a686b136c1e",
   "metadata": {},
   "source": [
    "### 모델 아키텍쳐 시각화"
   ]
  },
  {
   "cell_type": "code",
   "execution_count": null,
   "id": "f18a8f75",
   "metadata": {},
   "outputs": [],
   "source": [
    "plot_model(model)   # Model Architecture Showing"
   ]
  },
  {
   "cell_type": "markdown",
   "id": "01be2564-6232-4a6d-ab05-a5bce51ceecc",
   "metadata": {},
   "source": [
    "### 테스트용 제조데이터 정의"
   ]
  },
  {
   "cell_type": "code",
   "execution_count": null,
   "id": "c7f3f9cb",
   "metadata": {},
   "outputs": [],
   "source": [
    "x_test = np.array([img_preprocess(p) for p in aic.test_df.name.values]) # Get Test Images\n",
    "y_test = aic.test_df.outcome.values # Get Test Values"
   ]
  },
  {
   "cell_type": "markdown",
   "id": "99718953-de58-403e-8ce3-88a3e05eb139",
   "metadata": {},
   "source": [
    "### 모델 평가"
   ]
  },
  {
   "cell_type": "code",
   "execution_count": null,
   "id": "4a666596",
   "metadata": {},
   "outputs": [],
   "source": [
    "y_pred_ori = model.predict(x_test)  # Model Inference\n",
    "y_pred = [round(y[0], 0) for y in y_pred_ori]   # Round Predict Values\n",
    "print(\"accuracy  = \", accuracy_score(y_test, y_pred))   # Print Model Accuracy with Test Data\n",
    "print(\"recall    = \", recall_score(y_test, y_pred))     # Print Model Recall with Test Data\n",
    "print(\"precision = \", precision_score(y_test, y_pred))  # Print Model Score with Test Data\n",
    "print(\"f1 score  = \", f1_score(y_test, y_pred))         # Print Model F1-Score with Test Data"
   ]
  },
  {
   "cell_type": "markdown",
   "id": "e37c3e91-68de-4b4b-b47c-b94ae1abe586",
   "metadata": {},
   "source": [
    "### 테스트용 제조데이터를 통한 모델 결과 히스토그램 시각화"
   ]
  },
  {
   "cell_type": "code",
   "execution_count": null,
   "id": "1512c845",
   "metadata": {},
   "outputs": [],
   "source": [
    "plt.hist(y_pred_ori)    # Predict Value Plot"
   ]
  },
  {
   "cell_type": "markdown",
   "id": "1d3e585c-4130-42f3-8d27-98395ad06b13",
   "metadata": {},
   "source": [
    "### 모델 성능 평가(RMSE)"
   ]
  },
  {
   "cell_type": "code",
   "execution_count": null,
   "id": "555d112b",
   "metadata": {},
   "outputs": [],
   "source": [
    "print('Keras Model Predict : ', y_pred) # Print Predict Values\n",
    "rmse = sqrt(mean_squared_error(y_test, y_pred)) # Calculate RMSE Value with Predict Values and Real Values\n",
    "print('Keras Model RMS : ', rmse)   # Print RMSE Value"
   ]
  },
  {
   "cell_type": "markdown",
   "id": "d4de78a3-a902-4d61-9d2e-58fa5d26335d",
   "metadata": {},
   "source": [
    "### 모델 성능 평가(ROC Curve)"
   ]
  },
  {
   "cell_type": "code",
   "execution_count": null,
   "id": "afb6f24a",
   "metadata": {},
   "outputs": [],
   "source": [
    "fpr, tpr, thresholds = roc_curve(y_test, y_pred)    # Calculate ROC Curve Data\n",
    "print(fpr, tpr, thresholds)                         # Print ROC Curve Data"
   ]
  },
  {
   "cell_type": "markdown",
   "id": "85db0d9e-8c79-4f28-ae63-698ce3d41313",
   "metadata": {},
   "source": [
    "### 모델 성능 평가(Confusion Matrix)"
   ]
  },
  {
   "cell_type": "code",
   "execution_count": null,
   "id": "760878f1",
   "metadata": {},
   "outputs": [],
   "source": [
    "conf_matrix = confusion_matrix(y_test, y_pred, labels=[1, 0])   # Calculate Confusion Matrix Data\n",
    "print(conf_matrix)                                              # Print Confusion Matrix Data"
   ]
  },
  {
   "cell_type": "markdown",
   "id": "93f1e0d0-2f8c-4efe-8360-87563b3f9982",
   "metadata": {},
   "source": [
    "### 모델 성능 평가(ROC Curve) 시각화"
   ]
  },
  {
   "cell_type": "code",
   "execution_count": null,
   "id": "e9eb2d0a",
   "metadata": {},
   "outputs": [],
   "source": [
    "recall = conf_matrix[0][0]/(conf_matrix[0][0]+conf_matrix[0][1])    # Calculate Recall Value from Confusion Matrix Data\n",
    "fallout = conf_matrix[1][0]/(conf_matrix[1][0]+conf_matrix[1][1])   # Calculate Fallout Value from Confusion Matrix Data\n",
    "plt.plot(fpr, tpr, 'o-', label=\"Logistic Regression\")               # plot ROC Curve Data\n",
    "plt.plot([0, 1], [0, 1], 'k--', label=\"random guess\")\n",
    "plt.plot([fallout], [recall], 'ro', ms=10)                          # plot Fallout Data\n",
    "plt.xlabel('Fall-Out')                                              # Set x Label\n",
    "plt.ylabel('Recall')                                                # Set y Label\n",
    "plt.title('Receiver operating characteristic example')              # Set Title\n",
    "plt.grid()                                                          # Set Grid\n",
    "plt.legend()                                                        # Set Legend\n",
    "plt.show()                                                          # Show Plot Image"
   ]
  },
  {
   "cell_type": "markdown",
   "id": "86080085-cfc9-4594-951b-9c28fbd5593a",
   "metadata": {},
   "source": [
    "### 모델 성능 평가(Report)"
   ]
  },
  {
   "cell_type": "code",
   "execution_count": null,
   "id": "7f34cca5",
   "metadata": {},
   "outputs": [],
   "source": [
    "print(classification_report(y_test, y_pred, target_names=['class 0', 'class 1']))   # Print Report"
   ]
  }
 ],
 "metadata": {
  "kernelspec": {
   "display_name": "JeaDaeGong",
   "language": "python",
   "name": "jeadae"
  },
  "language_info": {
   "codemirror_mode": {
    "name": "ipython",
    "version": 3
   },
   "file_extension": ".py",
   "mimetype": "text/x-python",
   "name": "python",
   "nbconvert_exporter": "python",
   "pygments_lexer": "ipython3",
   "version": "3.8.13"
  }
 },
 "nbformat": 4,
 "nbformat_minor": 5
}
