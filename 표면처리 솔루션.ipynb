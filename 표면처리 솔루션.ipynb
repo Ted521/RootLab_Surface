{
 "cells": [
  {
   "cell_type": "markdown",
   "id": "be4160b5-fbe3-47cf-9722-e91855113f27",
   "metadata": {},
   "source": [
    "<img src='ipydata/표면처리.png' align='center' width=\"1500px\"/>"
   ]
  },
  {
   "cell_type": "markdown",
   "id": "28027c64-f0ba-4c41-ac43-4fc65a100efa",
   "metadata": {},
   "source": [
    "<ul><li style=\"font-size:2em;\">제조 데이터 준비</li></ul>\n",
    "<div style=\"width:1200px; margin:0 auto;\">\n",
    "<a href=\"#\"><img style=\"width:25%\" src=\"ipydata/data.png\"></a>\n",
    "<a href=\"#\"><img style=\"width:25%\" src=\"ipydata/data2.png\"></a>\n",
    "</div>\n",
    "<br>\n",
    "<span style=\"font-size:20px;\">사용대상: 표면처리 뿌리업종 내 아연도금 산출물에서 발생하는 이미지 제조데이터(Vision Machine 활용)</span>"
   ]
  },
  {
   "cell_type": "markdown",
   "id": "853ba638-9ceb-49d4-9873-6284366f0f1a",
   "metadata": {},
   "source": [
    "<ul><li style=\"font-size:2em;\">제조물</li></ul>\n",
    "<div style=\"width:1200px; margin:0 auto;\">\n",
    "<a href=\"#\"><img style=\"width:300px; height:200px;\" src=\"ipydata/제품1.png\"></a>\n",
    "<a href=\"#\"><img style=\"width:200px; height:200px;\" src=\"ipydata/제품2.png\"></a>\n",
    "</div>\n",
    "<br>\n",
    "<span style=\"font-size:20px;\">배관용 L자 연결 파이프(L자 관이음쇠) 아연도금</span>"
   ]
  },
  {
   "cell_type": "markdown",
   "id": "2deb5b87-2108-449a-ba39-d2389fee6cca",
   "metadata": {},
   "source": [
    "<ul><li style=\"font-size:2em;\">현장문제</li></ul>\n",
    "<div style=\"width:1200px; margin:0 auto;\">\n",
    "<a href=\"#\"><img style=\"width:400px; height:200px\" src=\"ipydata/육안1.png\"></a>\n",
    "<a href=\"#\"><img style=\"width:300px; height:200px\" src=\"ipydata/육안2.png\"></a>\n",
    "</div>\n",
    "<br>\n",
    "<span style=\"font-size:20px;\">공정시 산출물로 나오게 되는 L자 관이음쇠의 외관 품질 상태를 작업자가 하나하나 눈으로 체크하고 있으며, 이로 인한 노동력 낭비가 발생하고 있음</span>"
   ]
  },
  {
   "cell_type": "markdown",
   "id": "e698f729-b96e-4000-a16f-e47593e2032a",
   "metadata": {
    "tags": []
   },
   "source": [
    "<ul><li style=\"font-size:2em;\">제조AI 개발 목적</li></ul>\n",
    "<div style=\"width:1200px; margin:0 auto;\">\n",
    "<a href=\"#\"><img style=\"width:400px; height:200px\" src=\"ipydata/검사1.png\"></a>\n",
    "<a href=\"#\"><img style=\"width:300px; height:200px\" src=\"ipydata/검사2.png\"></a>\n",
    "</div>\n",
    "<br>\n",
    "<span style=\"font-size:20px;\">비전 시스템을 활용하여 표면처리(아연도금) 산출물의 외관 품질 검사를 자동화하고, 분류할 수 있게 하기 위함</span>"
   ]
  },
  {
   "cell_type": "markdown",
   "id": "fe981851-39f5-4001-8cff-f755bdc9518f",
   "metadata": {},
   "source": [
    "# Library Install"
   ]
  },
  {
   "cell_type": "code",
   "execution_count": 1,
   "id": "080de4e7",
   "metadata": {},
   "outputs": [],
   "source": [
    "# !pip install pandas\n",
    "# !pip install numpy\n",
    "# !pip install sklearn\n",
    "# !pip install seaborn\n",
    "# !pip install tensorflow\n",
    "# !pip install datetime\n",
    "# !pip install matplotlib\n",
    "# !pip install pydot\n",
    "# !pip install graphviz"
   ]
  },
  {
   "cell_type": "markdown",
   "id": "79ab8dc1",
   "metadata": {},
   "source": [
    "# Library Import"
   ]
  },
  {
   "cell_type": "code",
   "execution_count": 2,
   "id": "8bfcff89",
   "metadata": {},
   "outputs": [
    {
     "name": "stderr",
     "output_type": "stream",
     "text": [
      "Using TensorFlow backend.\n"
     ]
    },
    {
     "ename": "ModuleNotFoundError",
     "evalue": "No module named 'tensorflow.keras'",
     "output_type": "error",
     "traceback": [
      "\u001b[1;31m---------------------------------------------------------------------------\u001b[0m",
      "\u001b[1;31mModuleNotFoundError\u001b[0m                       Traceback (most recent call last)",
      "Input \u001b[1;32mIn [2]\u001b[0m, in \u001b[0;36m<cell line: 9>\u001b[1;34m()\u001b[0m\n\u001b[0;32m      7\u001b[0m \u001b[38;5;28;01mimport\u001b[39;00m \u001b[38;5;21;01mglob\u001b[39;00m\n\u001b[0;32m      8\u001b[0m \u001b[38;5;28;01mfrom\u001b[39;00m \u001b[38;5;21;01msklearn\u001b[39;00m\u001b[38;5;21;01m.\u001b[39;00m\u001b[38;5;21;01mutils\u001b[39;00m \u001b[38;5;28;01mimport\u001b[39;00m shuffle\n\u001b[1;32m----> 9\u001b[0m \u001b[38;5;28;01mfrom\u001b[39;00m \u001b[38;5;21;01mtensorflow\u001b[39;00m\u001b[38;5;21;01m.\u001b[39;00m\u001b[38;5;21;01mkeras\u001b[39;00m\u001b[38;5;21;01m.\u001b[39;00m\u001b[38;5;21;01mutils\u001b[39;00m \u001b[38;5;28;01mimport\u001b[39;00m plot_model\n\u001b[0;32m     10\u001b[0m \u001b[38;5;28;01mfrom\u001b[39;00m \u001b[38;5;21;01msklearn\u001b[39;00m\u001b[38;5;21;01m.\u001b[39;00m\u001b[38;5;21;01mmetrics\u001b[39;00m \u001b[38;5;28;01mimport\u001b[39;00m mean_squared_error\n\u001b[0;32m     11\u001b[0m \u001b[38;5;28;01mfrom\u001b[39;00m \u001b[38;5;21;01mmath\u001b[39;00m \u001b[38;5;28;01mimport\u001b[39;00m sqrt\n",
      "\u001b[1;31mModuleNotFoundError\u001b[0m: No module named 'tensorflow.keras'"
     ]
    }
   ],
   "source": [
    "import os\n",
    "import pandas as pd\n",
    "import numpy as np\n",
    "import cv2\n",
    "import matplotlib.pyplot as plt\n",
    "from PIL import Image\n",
    "import glob\n",
    "from sklearn.utils import shuffle\n",
    "from tensorflow.keras.utils import plot_model\n",
    "from sklearn.metrics import mean_squared_error\n",
    "from math import sqrt"
   ]
  },
  {
   "cell_type": "code",
   "execution_count": null,
   "id": "a6e22260",
   "metadata": {},
   "outputs": [],
   "source": [
    "# Training Validation Tool Import\n",
    "from sklearn.metrics import confusion_matrix\n",
    "from sklearn.metrics import accuracy_score\n",
    "from sklearn.metrics import precision_score\n",
    "from sklearn.metrics import recall_score\n",
    "from sklearn.metrics import f1_score\n",
    "from sklearn.metrics import classification_report\n",
    "from sklearn.metrics import roc_curve"
   ]
  },
  {
   "cell_type": "code",
   "execution_count": null,
   "id": "af09a1a3",
   "metadata": {},
   "outputs": [],
   "source": [
    "# Deep Learning Framework Import\n",
    "import tensorflow as tf"
   ]
  },
  {
   "cell_type": "code",
   "execution_count": null,
   "id": "0bdea60c",
   "metadata": {},
   "outputs": [],
   "source": [
    "gpus = tf.config.experimental.list_physical_devices('GPU')  # Set GPU Use"
   ]
  },
  {
   "cell_type": "code",
   "execution_count": null,
   "id": "322b2c53",
   "metadata": {},
   "outputs": [],
   "source": [
    "# GPU Use, not in condition -> Error\n",
    "if gpus:\n",
    "    try:\n",
    "        for gpu in gpus:\n",
    "            tf.config.experimental.set_memory_growth(gpu, True) # Set GPU Memory Useage Growth\n",
    "        logical_gpus = tf.config.experimental.list_logical_devices('GPU')   # Set Logical GPU\n",
    "        print(len(gpus), \"Physical GPUs,\", len(logical_gpus), \"Logical GPUs\")   # Print GPU Info\n",
    "    except RuntimeError as e:\n",
    "        print(e)"
   ]
  },
  {
   "cell_type": "code",
   "execution_count": null,
   "id": "8752c95f",
   "metadata": {},
   "outputs": [],
   "source": [
    "# Image Preprocessing\n",
    "def img_preprocess(img):\n",
    "    img = Image.open(img)   # Open Image\n",
    "    img = img.convert('RGB')   # Image Color Channel Change BGR->RGB\n",
    "    img = img.resize((256,256))   # Image Resize for training\n",
    "    img = np.asarray(img)/255   # Image Normalization\n",
    "    return img  # return Image"
   ]
  },
  {
   "cell_type": "code",
   "execution_count": null,
   "id": "4f47d2c7",
   "metadata": {},
   "outputs": [],
   "source": [
    "class AutoImageClassification:\n",
    "    def __init__(self, path):\n",
    "        self.train_df = self._create_df(path, '\\학습')  # Training DataFrame Set\n",
    "        self.test_df = self._create_df(path, '\\테스트') # Test DataFrame Set\n",
    "        \n",
    "    @staticmethod\n",
    "    def _create_df(path, path2):    # Make DataFrame for Training / Test\n",
    "        files1 = glob.glob(path+path2+\"\\정상\\*.png\")    # Get Images from True Image Folder\n",
    "        files2 = glob.glob(path+path2+\"\\불량\\*.png\")    # Get Images from False Image Folder\n",
    "        df_n = pd.DataFrame()   # Initialize DataFrame for False\n",
    "        df_p = pd.DataFrame()   # Initialize DataFrame for True\n",
    "        df_n['name'] = [x for x in files2]  # False Image Name Insert into DataFrame's column name\n",
    "        df_n['outcome'] = 0.      # False Image Value Insert into DataFrame's column outcome\n",
    "        df_p['name'] = [x for x in files1]  # True Image Name Insert into DataFrame's column name\n",
    "        df_p['outcome'] = 1.      # True Image Value Insert into DataFrame's column outcome\n",
    "        df = pd.concat([df_n, df_p], axis = 0, ignore_index = True)  # Concat True / False Dataframe\n",
    "        df = shuffle(df)        # Shuffle DataFame Rows\n",
    "        return df\n",
    "    \n",
    "    def create_x_and_y(self):   # Get Data Pair (Image, Value)\n",
    "        X = np.array([img_preprocess(p) for p in self.train_df.name.values])    # Get Image Data\n",
    "        y = self.train_df.outcome.values    # Get Value Data from DataFrame\n",
    "        return X, y"
   ]
  },
  {
   "cell_type": "code",
   "execution_count": null,
   "id": "ecac3fb5",
   "metadata": {},
   "outputs": [],
   "source": [
    "aic = AutoImageClassification(path = os.getcwd())   # Initizlie AIC Class"
   ]
  },
  {
   "cell_type": "code",
   "execution_count": null,
   "id": "19848aea",
   "metadata": {},
   "outputs": [],
   "source": [
    "is_training = True # Set Training Trigger"
   ]
  },
  {
   "cell_type": "code",
   "execution_count": null,
   "id": "ee3cec67",
   "metadata": {},
   "outputs": [],
   "source": [
    "if is_training: # if Training Trigger True, Do underline\n",
    "        X, y = aic.create_x_and_y()     # Get Training Datas"
   ]
  },
  {
   "cell_type": "code",
   "execution_count": null,
   "id": "d52f0bf3-2a16-405a-8df2-089573362379",
   "metadata": {},
   "outputs": [],
   "source": [
    "def modelGen():\n",
    "    model = tf.keras.Sequential()\n",
    "    model.add(tf.keras.layers.Conv2D(input_shape=(256,256,3), filters=32, kernel_size=(3,3), activation='relu'))\n",
    "    model.add(tf.keras.layers.MaxPooling2D(pool_size=(2,2)))\n",
    "    model.add(tf.keras.layers.Conv2D(filters=64, kernel_size=(3,3), activation='relu'))\n",
    "    model.add(tf.keras.layers.MaxPooling2D(pool_size=(2,2)))\n",
    "    model.add(tf.keras.layers.Conv2D(filters=64, kernel_size=(3,3), activation='relu'))\n",
    "    model.add(tf.keras.layers.MaxPooling2D(pool_size=(2,2)))\n",
    "    model.add(tf.keras.layers.Flatten())\n",
    "    model.add(tf.keras.layers.Dense(100))\n",
    "    model.add(tf.keras.layers.Dense(1, activation='sigmoid'))\n",
    "    model.compile(loss='binary_crossentropy', optimizer='adam', metrics=['accuracy'])\n",
    "    return model"
   ]
  },
  {
   "cell_type": "code",
   "execution_count": null,
   "id": "4593618d",
   "metadata": {
    "scrolled": true
   },
   "outputs": [],
   "source": [
    "if is_training: # if Training Trigger True, Do Training\n",
    "    model = modelGen()\n",
    "    model.fit(x=X, y=y, epochs=3, validation_split=0.2, verbose=2)  # Model Training\n",
    "    model.save('trainedModel.h5')    # Model Export\n",
    "else:\n",
    "    model = tf.keras.models.load_model(\"trainedModel.h5\") # Get Trained Model"
   ]
  },
  {
   "cell_type": "code",
   "execution_count": null,
   "id": "df8347ba",
   "metadata": {},
   "outputs": [],
   "source": [
    "model.summary() # Model Shape Showing"
   ]
  },
  {
   "cell_type": "code",
   "execution_count": null,
   "id": "f18a8f75",
   "metadata": {},
   "outputs": [],
   "source": [
    "plot_model(model)   # Model Architecture Showing"
   ]
  },
  {
   "cell_type": "code",
   "execution_count": null,
   "id": "c7f3f9cb",
   "metadata": {},
   "outputs": [],
   "source": [
    "x_test = np.array([img_preprocess(p) for p in aic.test_df.name.values]) # Get Test Images\n",
    "y_test = aic.test_df.outcome.values # Get Test Values"
   ]
  },
  {
   "cell_type": "code",
   "execution_count": null,
   "id": "4a666596",
   "metadata": {},
   "outputs": [],
   "source": [
    "y_pred_ori = model.predict(x_test)  # Model Inference\n",
    "y_pred = [round(y[0], 0) for y in y_pred_ori]   # Round Predict Values\n",
    "print(\"accuracy  = \", accuracy_score(y_test, y_pred))   # Print Model Accuracy with Test Data\n",
    "print(\"recall    = \", recall_score(y_test, y_pred))     # Print Model Recall with Test Data\n",
    "print(\"precision = \", precision_score(y_test, y_pred))  # Print Model Score with Test Data\n",
    "print(\"f1 score  = \", f1_score(y_test, y_pred))         # Print Model F1-Score with Test Data"
   ]
  },
  {
   "cell_type": "code",
   "execution_count": null,
   "id": "1512c845",
   "metadata": {},
   "outputs": [],
   "source": [
    "plt.hist(y_pred_ori)    # Predict Value Plot"
   ]
  },
  {
   "cell_type": "code",
   "execution_count": null,
   "id": "555d112b",
   "metadata": {},
   "outputs": [],
   "source": [
    "print('Keras Model Predict : ', y_pred) # Print Predict Values\n",
    "rmse = sqrt(mean_squared_error(y_test, y_pred)) # Calculate RMSE Value with Predict Values and Real Values\n",
    "print('Keras Model RMS : ', rmse)   # Print RMSE Value"
   ]
  },
  {
   "cell_type": "code",
   "execution_count": null,
   "id": "afb6f24a",
   "metadata": {},
   "outputs": [],
   "source": [
    "fpr, tpr, thresholds = roc_curve(y_test, y_pred)    # Calculate ROC Curve Data\n",
    "print(fpr, tpr, thresholds)                         # Print ROC Curve Data"
   ]
  },
  {
   "cell_type": "code",
   "execution_count": null,
   "id": "760878f1",
   "metadata": {},
   "outputs": [],
   "source": [
    "conf_matrix = confusion_matrix(y_test, y_pred, labels=[1, 0])   # Calculate Confusion Matrix Data\n",
    "print(conf_matrix)                                              # Print Confusion Matrix Data"
   ]
  },
  {
   "cell_type": "code",
   "execution_count": null,
   "id": "e9eb2d0a",
   "metadata": {},
   "outputs": [],
   "source": [
    "recall = conf_matrix[0][0]/(conf_matrix[0][0]+conf_matrix[0][1])    # Calculate Recall Value from Confusion Matrix Data\n",
    "fallout = conf_matrix[1][0]/(conf_matrix[1][0]+conf_matrix[1][1])   # Calculate Fallout Value from Confusion Matrix Data\n",
    "plt.plot(fpr, tpr, 'o-', label=\"Logistic Regression\")               # plot ROC Curve Data\n",
    "plt.plot([0, 1], [0, 1], 'k--', label=\"random guess\")\n",
    "plt.plot([fallout], [recall], 'ro', ms=10)                          # plot Fallout Data\n",
    "plt.xlabel('Fall-Out')                                              # Set x Label\n",
    "plt.ylabel('Recall')                                                # Set y Label\n",
    "plt.title('Receiver operating characteristic example')              # Set Title\n",
    "plt.grid()                                                          # Set Grid\n",
    "plt.legend()                                                        # Set Legend\n",
    "plt.show()                                                          # Show Plot Image"
   ]
  },
  {
   "cell_type": "code",
   "execution_count": null,
   "id": "7f34cca5",
   "metadata": {},
   "outputs": [],
   "source": [
    "print(classification_report(y_test, y_pred, target_names=['class 0', 'class 1']))   # Print Report"
   ]
  },
  {
   "cell_type": "code",
   "execution_count": null,
   "id": "77ec0729-422c-4da7-ad39-aca840494016",
   "metadata": {},
   "outputs": [],
   "source": []
  }
 ],
 "metadata": {
  "kernelspec": {
   "display_name": "JeaDaeGong",
   "language": "python",
   "name": "jeadae"
  },
  "language_info": {
   "codemirror_mode": {
    "name": "ipython",
    "version": 3
   },
   "file_extension": ".py",
   "mimetype": "text/x-python",
   "name": "python",
   "nbconvert_exporter": "python",
   "pygments_lexer": "ipython3",
   "version": "3.8.13"
  }
 },
 "nbformat": 4,
 "nbformat_minor": 5
}
